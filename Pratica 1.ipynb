{
 "cells": [
  {
   "cell_type": "markdown",
   "id": "1870d0bb-d22b-4efa-88d0-ab83c14aae58",
   "metadata": {},
   "source": [
    "Esercizio 1\n",
    "--\n",
    "Fai la lista \n",
    "vai al supermercato\n",
    "compro il pomodoro\n",
    "l'olio \n",
    "la pasta\n",
    "il pesce \n",
    "l'arancia\n",
    "le metto nella busta\n",
    "vado a la cassa pago e torno a casa\n",
    "--"
   ]
  },
  {
   "cell_type": "code",
   "execution_count": null,
   "id": "72bace2c-b3d6-4979-aee7-3227e69cb0af",
   "metadata": {},
   "outputs": [],
   "source": [
    "--\n",
    "Acquistare un snake da un distributore automatico:\n",
    "\n",
    "verifico il prezzo del prodotto\n",
    "inserisco la moneta\n",
    "inserisco il numero corrispondente al prodotto\n",
    "spetto che venga erogato\n",
    "prendo il prodotto\n",
    "--"
   ]
  },
  {
   "cell_type": "code",
   "execution_count": null,
   "id": "945ab8c3-a6c8-4d31-b217-63a041e48230",
   "metadata": {},
   "outputs": [],
   "source": [
    "--\n",
    "Fare la pasta\n",
    "\n",
    "mettere l'acqua nella pentola\n",
    "accendere il fuoco\n",
    "mettere la pentola sul fuoco\n",
    "aspetto che buio l'acqua\n",
    "mettere la pasta nell'acqua\n",
    "aspetto che sia cotta \n",
    "scolare la pasta\n",
    "condire la pasta\n",
    "--"
   ]
  },
  {
   "cell_type": "code",
   "execution_count": null,
   "id": "6d6bbe36-ee92-4bc9-b594-9c4ed40c9f40",
   "metadata": {},
   "outputs": [],
   "source": [
    "--- Riempire il serbatoio\n",
    "1- Prendere la macchina\n",
    "2- Andare alla stazione piu vicina\n",
    "3- Fermarsi\n",
    "4- Scendere della macchina\n",
    "5- Aprire lo sportello serbatoio\n",
    "6- Mettere soldi per benzina\n",
    "7- Prendere la pompa\n",
    "8- Mettere benzina\n",
    "9- Attendere\n",
    "10- Se il serbatoio non è ancora pieno torna al numero 9\n",
    "11- Rimettere aposto la pompa\n",
    "12- Chiudere sportello\n",
    "13- Salire in auto\n",
    "14- Tornare a casa\n",
    "---"
   ]
  },
  {
   "cell_type": "code",
   "execution_count": null,
   "id": "40fd910d-bee1-4e41-b8c3-23813225bca8",
   "metadata": {},
   "outputs": [],
   "source": []
  },
  {
   "cell_type": "code",
   "execution_count": null,
   "id": "deb3c8b9-bc65-44d3-a4cd-f90a904aaa83",
   "metadata": {},
   "outputs": [],
   "source": [
    "studente = 25"
   ]
  },
  {
   "cell_type": "code",
   "execution_count": 3,
   "id": "d2703380-a8e2-4f0a-8dfe-76fbb41fc6d6",
   "metadata": {},
   "outputs": [
    {
     "name": "stdout",
     "output_type": "stream",
     "text": [
      "25\n"
     ]
    }
   ],
   "source": [
    "print(studente)"
   ]
  },
  {
   "cell_type": "code",
   "execution_count": 5,
   "id": "cb86a51d-a691-4bfa-ae1b-2210a5e8346b",
   "metadata": {},
   "outputs": [],
   "source": [
    "nuovi_studenti = 3\n",
    "studenti_totali = studente + nuovi_studenti"
   ]
  },
  {
   "cell_type": "code",
   "execution_count": 6,
   "id": "870efd9f-d7ea-4599-9036-84e1f7b65bf2",
   "metadata": {},
   "outputs": [
    {
     "name": "stdout",
     "output_type": "stream",
     "text": [
      "28\n"
     ]
    }
   ],
   "source": [
    "print(studenti_totali)"
   ]
  },
  {
   "cell_type": "code",
   "execution_count": 11,
   "id": "65d8e065-f000-48a2-9b2b-72109fd98330",
   "metadata": {},
   "outputs": [
    {
     "name": "stdout",
     "output_type": "stream",
     "text": [
      "epicode\n"
     ]
    }
   ],
   "source": [
    "nome = 'epicode'\n",
    "print(nome)"
   ]
  },
  {
   "cell_type": "markdown",
   "id": "5e2cfc1e-69e6-40d4-8b30-12ae0cad13e1",
   "metadata": {},
   "source": []
  },
  {
   "cell_type": "code",
   "execution_count": 9,
   "id": "4e078f91-c1d0-42c0-94fe-9a785c7e1983",
   "metadata": {},
   "outputs": [
    {
     "data": {
      "text/plain": [
       "36"
      ]
     },
     "execution_count": 9,
     "metadata": {},
     "output_type": "execute_result"
    }
   ],
   "source": [
    "x = 10\n",
    "(x + 2 ) *3"
   ]
  },
  {
   "cell_type": "code",
   "execution_count": 15,
   "id": "bd48eed2-ef65-4f55-9210-7c63ab21be3c",
   "metadata": {},
   "outputs": [
    {
     "name": "stdout",
     "output_type": "stream",
     "text": [
      "compreso\n"
     ]
    }
   ],
   "source": [
    "str1 = \"windows\"\n",
    "if len(str1) >= 5 and len(str1) <= 8:\n",
    "    print(\"compreso\")\n",
    "else:\n",
    "    print(\"non compreso\")"
   ]
  },
  {
   "cell_type": "code",
   "execution_count": 16,
   "id": "01a7c170-c36d-4edb-8256-d14963d4e14e",
   "metadata": {},
   "outputs": [
    {
     "name": "stdout",
     "output_type": "stream",
     "text": [
      "compreso\n"
     ]
    }
   ],
   "source": [
    "str2 = \"Excel\"\n",
    "if len(str2) >= 5 and len(str2) <= 8:\n",
    "    print(\"compreso\")\n",
    "else:\n",
    "    print(\"non compreso\")"
   ]
  },
  {
   "cell_type": "code",
   "execution_count": 18,
   "id": "304742e6-030d-47b5-8a84-96e0139e862f",
   "metadata": {},
   "outputs": [
    {
     "name": "stdout",
     "output_type": "stream",
     "text": [
      "non compreso\n"
     ]
    }
   ],
   "source": [
    "str3 = \"Powerpoint\"\n",
    "if len(str3) >= 5 and len(str3) <= 8:\n",
    "    print(\"compreso\")\n",
    "else:\n",
    "    print(\"non compreso\")"
   ]
  },
  {
   "cell_type": "code",
   "execution_count": 19,
   "id": "876c467d-45b5-4f1a-97dd-b33bf3a465b0",
   "metadata": {},
   "outputs": [
    {
     "name": "stdout",
     "output_type": "stream",
     "text": [
      "non compreso\n"
     ]
    }
   ],
   "source": [
    "str4 = \"word\"\n",
    "if len(str4) >= 5 and len(str4) <= 8:\n",
    "    print(\"compreso\")\n",
    "else:\n",
    "    print(\"non compreso\")"
   ]
  },
  {
   "cell_type": "code",
   "execution_count": 22,
   "id": "78e355b7-4460-431e-8928-308a2af75ef4",
   "metadata": {},
   "outputs": [
    {
     "name": "stdout",
     "output_type": "stream",
     "text": [
      "i secondi in un anno non bisestile sono:  30758400\n"
     ]
    }
   ],
   "source": [
    "secondi = 60*60*24*356\n",
    "print(\"i secondi in un anno non bisestile sono: \", secondi)"
   ]
  },
  {
   "cell_type": "code",
   "execution_count": 23,
   "id": "d818a520-d9a6-4822-90f4-ad31fb678c79",
   "metadata": {},
   "outputs": [
    {
     "data": {
      "text/plain": [
       "'I AM STUDYING PYTHON'"
      ]
     },
     "execution_count": 23,
     "metadata": {},
     "output_type": "execute_result"
    }
   ],
   "source": [
    "my_string = \"i am studying Python\"\n",
    "my_string.upper()"
   ]
  },
  {
   "cell_type": "code",
   "execution_count": 24,
   "id": "03617581-7cd9-4d4a-bcb6-cf4f9cb258ad",
   "metadata": {},
   "outputs": [
    {
     "data": {
      "text/plain": [
       "'i am studying python'"
      ]
     },
     "execution_count": 24,
     "metadata": {},
     "output_type": "execute_result"
    }
   ],
   "source": [
    "my_string.lower()"
   ]
  },
  {
   "cell_type": "code",
   "execution_count": 25,
   "id": "e894d2ee-71e8-4f0e-9aab-beec99b2700c",
   "metadata": {},
   "outputs": [
    {
     "data": {
      "text/plain": [
       "'i am studying a lot'"
      ]
     },
     "execution_count": 25,
     "metadata": {},
     "output_type": "execute_result"
    }
   ],
   "source": [
    "my_string.replace(\"Python\", \"a lot\")"
   ]
  },
  {
   "cell_type": "code",
   "execution_count": 26,
   "id": "3eb459a0-c843-4696-9ca6-89b132bee465",
   "metadata": {},
   "outputs": [
    {
     "data": {
      "text/plain": [
       "'i am studying Python'"
      ]
     },
     "execution_count": 26,
     "metadata": {},
     "output_type": "execute_result"
    }
   ],
   "source": [
    "my_string.strip()"
   ]
  },
  {
   "cell_type": "code",
   "execution_count": null,
   "id": "43f9caec-9ce7-45a7-8606-fdea6dd05518",
   "metadata": {},
   "outputs": [],
   "source": []
  }
 ],
 "metadata": {
  "kernelspec": {
   "display_name": "Python 3 (ipykernel)",
   "language": "python",
   "name": "python3"
  },
  "language_info": {
   "codemirror_mode": {
    "name": "ipython",
    "version": 3
   },
   "file_extension": ".py",
   "mimetype": "text/x-python",
   "name": "python",
   "nbconvert_exporter": "python",
   "pygments_lexer": "ipython3",
   "version": "3.11.7"
  }
 },
 "nbformat": 4,
 "nbformat_minor": 5
}
